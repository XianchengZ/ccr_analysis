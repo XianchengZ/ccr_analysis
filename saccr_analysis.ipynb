{
 "cells": [
  {
   "cell_type": "markdown",
   "id": "342ee630",
   "metadata": {},
   "source": [
    "# Standardised Approach for Counterparty Credit Risk\n",
    "\n",
    "Abbreviations: <br >\n",
    "- $VM$: Variation Margin\n",
    "- $EAD$: Exposure At Default under SA\n",
    "- $RC$: replacement cost (different for margined and unmargined)\n",
    "- $PFE$: Potential Future Exposure\n",
    "- $V$: Current Market Value of the Derivative in the netting set\n",
    "- $C$: Net harcut value of the net collateral held\n",
    "- $ICA$: Independent Collateral Amount\n",
    "- $TH$: Positive threshold before the counterparty must send the bank collateral\n",
    "- $MTA$: Minimum transfer amount\n",
    "- $NICA$: Net independent Collateral Amount\n",
    "- $MF_i^{type}$: Maturity Factor\n",
    "- $M_i$: Maturity (i remaining maturity floored by 10 business days)\n",
    "- $S_i$: Start\n",
    "- $E_i$: end date\n",
    "- $T_i$: Contractual Exercise Date\n",
    "- ${SD}_i$: Supervisory Duration\n",
    "- $\\delta_i$: Supervisory delta Adjustments\n",
    "- $MPOR_i$: Margin period of risk appropriate for the margin agreement containing the transaction i\n",
    "\n",
    "Formulas: <br> \n",
    "- EAD = alpha * (RC + PFE) \n",
    "- RC (Margined) = max{V - C;TH + MTA - NICA; 0}\n",
    "- PFE = multiplier * $AddOn^{aggregate}$\n",
    "- multipiler = min{1; Floor + (1 - Floor) * exp ($\\frac{V - C}{2* (1-Floor) * AddOn^{aggregate} }$)}\n",
    "- $AddOn^{aggregate}$ = $\\sum_{a} AddOn^a$\n",
    "- ${SD}_i$ = $\\frac {exp(-0.05*S_i)-exp(-0.05*Ei)} {0.05}$\n",
    "- ${MF}_i^{unmargined}$ = $\\sqrt{\\frac {min\\{M_i; 1 year\\}}{1year}}$\n",
    "- ${MF}_i^{(margined)}$ = $\\frac {3} {2} \\sqrt{\\frac{MPOR_i}{1year}}$\n",
    "\n",
    "<a href=\"https://www.bis.org/publ/bcbs279.pdf\">PDF Reference</a>"
   ]
  },
  {
   "cell_type": "code",
   "execution_count": 1,
   "id": "04af5ce0",
   "metadata": {},
   "outputs": [],
   "source": [
    "# csv file sample input\n"
   ]
  },
  {
   "cell_type": "markdown",
   "id": "41bc5c5b",
   "metadata": {},
   "source": [
    "<h3>Example 1: <h3/>"
   ]
  },
  {
   "cell_type": "code",
   "execution_count": 2,
   "id": "d591e961",
   "metadata": {},
   "outputs": [],
   "source": [
    "import pandas as pd\n",
    "import math\n",
    "import numpy as np"
   ]
  },
  {
   "cell_type": "code",
   "execution_count": 3,
   "id": "64fd2add",
   "metadata": {},
   "outputs": [],
   "source": [
    "fileName = \"example_1_input.csv\"\n",
    "example_1_df = pd.read_csv(fileName)"
   ]
  },
  {
   "cell_type": "code",
   "execution_count": 4,
   "id": "d400d204",
   "metadata": {},
   "outputs": [
    {
     "data": {
      "text/plain": [
       "<bound method NDFrame.head of    Trade #              Nature Residual maturity Base currency  \\\n",
       "0        1  Interest rate swap          10 years           USD   \n",
       "1        2  Interest rate swap           4 years           USD   \n",
       "2        3   European swaption   1 into 10 years           EUR   \n",
       "\n",
       "   Notional (thousands) Pay Leg (*) Receive Leg (*)  Market value (thousands)  \n",
       "0                 10000       Fixed        Floating                        30  \n",
       "1                 10000    Floating           Fixed                       -20  \n",
       "2                  5000    Floating           Fixed                        50  >"
      ]
     },
     "execution_count": 4,
     "metadata": {},
     "output_type": "execute_result"
    }
   ],
   "source": [
    "example_1_df.head"
   ]
  },
  {
   "cell_type": "code",
   "execution_count": 5,
   "id": "1658ed5b",
   "metadata": {},
   "outputs": [],
   "source": [
    "#rc(df) takes in a dataframe and compute the RC of a given file\n",
    "def rc(df):\n",
    "    v_c = df[['Market value (thousands)']].sum()\n",
    "    r_c = max(int(v_c), 0)\n",
    "    return r_c\n",
    "\n",
    "# convert residual maturity to two lists, S and E by taking in\n",
    "# three variables, emptyEi, emptySi and residual maturity\n",
    "def residual_maturity_converter(Ei, Si, residual_maturity):\n",
    "    for item in residual_maturity:\n",
    "        item = str(item)\n",
    "        idx = item.find(\"into\")\n",
    "        if (idx == -1): # S would be 0\n",
    "            Si.append(0)\n",
    "            end = int(item[:item.find(\"year\") - 1])\n",
    "            Ei.append(end)\n",
    "        else:\n",
    "            idx -= 1\n",
    "            start = int(item[:idx])\n",
    "            Si.append(start)\n",
    "            idx += 5\n",
    "            end = int(item[idx:item.find(\"year\") - 1])\n",
    "            Ei.append(end)\n",
    "            \n",
    "        for i in range(0,len(Ei)):\n",
    "            Ei[i] = Ei[i] + Si[i]\n",
    "            \n",
    "#SD_generator takes in Si and Ei and generate the appropriate SD as a list\n",
    "def SD_generator(Si, Ei, SD):\n",
    "    if (len(Si) != len(Ei)):\n",
    "        return \"Error\"\n",
    "    for i in range(0, len(Si)):\n",
    "        si = Si[i]\n",
    "        ei = Ei[i]\n",
    "        sd = (math.exp(-0.05*si) - math.exp(-0.05*ei)) / 0.05\n",
    "        SD.append(sd)"
   ]
  },
  {
   "cell_type": "code",
   "execution_count": 6,
   "id": "74f509ae",
   "metadata": {},
   "outputs": [
    {
     "data": {
      "text/plain": [
       "60"
      ]
     },
     "execution_count": 6,
     "metadata": {},
     "output_type": "execute_result"
    }
   ],
   "source": [
    "rc(example_1_df)"
   ]
  },
  {
   "cell_type": "code",
   "execution_count": 7,
   "id": "d16bc80d",
   "metadata": {},
   "outputs": [
    {
     "data": {
      "text/plain": [
       "Index(['Trade #', 'Nature', 'Residual maturity', 'Base currency',\n",
       "       'Notional (thousands)', 'Pay Leg (*)', 'Receive Leg (*)',\n",
       "       'Market value (thousands)'],\n",
       "      dtype='object')"
      ]
     },
     "execution_count": 7,
     "metadata": {},
     "output_type": "execute_result"
    }
   ],
   "source": [
    "example_1_df.columns"
   ]
  },
  {
   "cell_type": "code",
   "execution_count": 8,
   "id": "485b3865",
   "metadata": {},
   "outputs": [
    {
     "data": {
      "text/plain": [
       "{'Hedging set': ['USD', 'USD', 'EUR']}"
      ]
     },
     "execution_count": 8,
     "metadata": {},
     "output_type": "execute_result"
    }
   ],
   "source": [
    "# Creating a new dataframe for further analysis\n",
    "data = {}\n",
    "hedging_set = example_1_df['Base currency'].tolist()\n",
    "data.update({\"Hedging set\": hedging_set})\n",
    "data"
   ]
  },
  {
   "cell_type": "code",
   "execution_count": 9,
   "id": "31241bbd",
   "metadata": {},
   "outputs": [],
   "source": [
    "Ei = []\n",
    "Si = []\n",
    "residual_maturity_converter(Ei, Si, example_1_df['Residual maturity'])"
   ]
  },
  {
   "cell_type": "code",
   "execution_count": 10,
   "id": "7cf922e6",
   "metadata": {},
   "outputs": [
    {
     "data": {
      "text/plain": [
       "[10, 4, 11]"
      ]
     },
     "execution_count": 10,
     "metadata": {},
     "output_type": "execute_result"
    }
   ],
   "source": [
    "Ei"
   ]
  },
  {
   "cell_type": "code",
   "execution_count": 11,
   "id": "83bf4e3c",
   "metadata": {},
   "outputs": [
    {
     "data": {
      "text/plain": [
       "[0, 0, 1]"
      ]
     },
     "execution_count": 11,
     "metadata": {},
     "output_type": "execute_result"
    }
   ],
   "source": [
    "Si"
   ]
  },
  {
   "cell_type": "code",
   "execution_count": 12,
   "id": "177d4075",
   "metadata": {},
   "outputs": [
    {
     "data": {
      "text/plain": [
       "{'Hedging set': ['USD', 'USD', 'EUR'],\n",
       " 'Notional (thousands)': [10000, 10000, 5000],\n",
       " 'Si': [0, 0, 1],\n",
       " 'Ei': [10, 4, 11]}"
      ]
     },
     "execution_count": 12,
     "metadata": {},
     "output_type": "execute_result"
    }
   ],
   "source": [
    "data.update({\"Notional (thousands)\": example_1_df['Notional (thousands)'].tolist(),\n",
    "            \"Si\": Si, \"Ei\":Ei})\n",
    "data"
   ]
  },
  {
   "cell_type": "code",
   "execution_count": 13,
   "id": "ef607ad8",
   "metadata": {},
   "outputs": [
    {
     "data": {
      "text/plain": [
       "[7.8693868057473315, 3.6253849384403636, 7.485592282404547]"
      ]
     },
     "execution_count": 13,
     "metadata": {},
     "output_type": "execute_result"
    }
   ],
   "source": [
    "SD = []\n",
    "SD_generator(Si, Ei, SD)\n",
    "SD"
   ]
  },
  {
   "cell_type": "code",
   "execution_count": 14,
   "id": "76d7a58f",
   "metadata": {},
   "outputs": [],
   "source": [
    "Adj_notion = np.array(SD) * np.array(example_1_df['Notional (thousands)'].tolist())"
   ]
  },
  {
   "cell_type": "code",
   "execution_count": 15,
   "id": "6f7a5274",
   "metadata": {},
   "outputs": [
    {
     "data": {
      "text/plain": [
       "{'Hedging set': ['USD', 'USD', 'EUR'],\n",
       " 'Notional (thousands)': [10000, 10000, 5000],\n",
       " 'Si': [0, 0, 1],\n",
       " 'Ei': [10, 4, 11],\n",
       " 'SDi': [7.8693868057473315, 3.6253849384403636, 7.485592282404547],\n",
       " 'Adjusted notional (thousands)': [78693.86805747332,\n",
       "  36253.849384403635,\n",
       "  37427.961412022734]}"
      ]
     },
     "execution_count": 15,
     "metadata": {},
     "output_type": "execute_result"
    }
   ],
   "source": [
    "data.update({\"SDi\": SD,\n",
    "            \"Adjusted notional (thousands)\": Adj_notion.tolist()})\n",
    "data"
   ]
  },
  {
   "cell_type": "code",
   "execution_count": 16,
   "id": "9eef4664",
   "metadata": {},
   "outputs": [
    {
     "data": {
      "text/html": [
       "<div>\n",
       "<style scoped>\n",
       "    .dataframe tbody tr th:only-of-type {\n",
       "        vertical-align: middle;\n",
       "    }\n",
       "\n",
       "    .dataframe tbody tr th {\n",
       "        vertical-align: top;\n",
       "    }\n",
       "\n",
       "    .dataframe thead th {\n",
       "        text-align: right;\n",
       "    }\n",
       "</style>\n",
       "<table border=\"1\" class=\"dataframe\">\n",
       "  <thead>\n",
       "    <tr style=\"text-align: right;\">\n",
       "      <th></th>\n",
       "      <th>Hedging set</th>\n",
       "      <th>Notional (thousands)</th>\n",
       "      <th>Si</th>\n",
       "      <th>Ei</th>\n",
       "      <th>SDi</th>\n",
       "      <th>Adjusted notional (thousands)</th>\n",
       "    </tr>\n",
       "  </thead>\n",
       "  <tbody>\n",
       "    <tr>\n",
       "      <th>0</th>\n",
       "      <td>USD</td>\n",
       "      <td>10000</td>\n",
       "      <td>0</td>\n",
       "      <td>10</td>\n",
       "      <td>7.869387</td>\n",
       "      <td>78693.868057</td>\n",
       "    </tr>\n",
       "    <tr>\n",
       "      <th>1</th>\n",
       "      <td>USD</td>\n",
       "      <td>10000</td>\n",
       "      <td>0</td>\n",
       "      <td>4</td>\n",
       "      <td>3.625385</td>\n",
       "      <td>36253.849384</td>\n",
       "    </tr>\n",
       "    <tr>\n",
       "      <th>2</th>\n",
       "      <td>EUR</td>\n",
       "      <td>5000</td>\n",
       "      <td>1</td>\n",
       "      <td>11</td>\n",
       "      <td>7.485592</td>\n",
       "      <td>37427.961412</td>\n",
       "    </tr>\n",
       "  </tbody>\n",
       "</table>\n",
       "</div>"
      ],
      "text/plain": [
       "  Hedging set  Notional (thousands)  Si  Ei       SDi  \\\n",
       "0         USD                 10000   0  10  7.869387   \n",
       "1         USD                 10000   0   4  3.625385   \n",
       "2         EUR                  5000   1  11  7.485592   \n",
       "\n",
       "   Adjusted notional (thousands)  \n",
       "0                   78693.868057  \n",
       "1                   36253.849384  \n",
       "2                   37427.961412  "
      ]
     },
     "execution_count": 16,
     "metadata": {},
     "output_type": "execute_result"
    }
   ],
   "source": [
    "middle_df = pd.DataFrame(data)\n",
    "middle_df"
   ]
  },
  {
   "cell_type": "code",
   "execution_count": 17,
   "id": "271e8058",
   "metadata": {},
   "outputs": [
    {
     "data": {
      "text/plain": [
       "3"
      ]
     },
     "execution_count": 17,
     "metadata": {},
     "output_type": "execute_result"
    }
   ],
   "source": [
    "(x,y) = example_1_df.shape\n",
    "x"
   ]
  },
  {
   "cell_type": "code",
   "execution_count": 18,
   "id": "7b27539b",
   "metadata": {},
   "outputs": [
    {
     "data": {
      "text/plain": [
       "10"
      ]
     },
     "execution_count": 18,
     "metadata": {},
     "output_type": "execute_result"
    }
   ],
   "source": [
    "middle_df.at[0,'Ei']"
   ]
  },
  {
   "cell_type": "code",
   "execution_count": 19,
   "id": "fa031539",
   "metadata": {},
   "outputs": [],
   "source": [
    "# phi() takes in a number and calculate the phi of it\n",
    "def phi(x):\n",
    "    return (1.0 + math.erf(x / math.sqrt(2.0))) / 2.0\n",
    "\n",
    "# supervisory_delta_generator() takes in two dataframe, the original one\n",
    "# and the new generated one to modify and add a column on the \n",
    "# new generated dataframe\n",
    "def supervisory_delta_generator(original_df, middle_df):\n",
    "    (row_num, col_num) = original_df.shape\n",
    "    sd_column = []\n",
    "    for i in range(0, row_num):\n",
    "        sd = None\n",
    "        \n",
    "        fixed = (str(original_df.at[i, 'Pay Leg (*)']) == 'Fixed')\n",
    "        option_idx = (str(original_df.at[i, 'Nature']).find(\"swaption\"))\n",
    "        \n",
    "        if (fixed and option_idx == -1): # long but not option\n",
    "            sd = 1\n",
    "        elif (not fixed and option_idx == -1): # short but not option\n",
    "            sd = -1\n",
    "        else: # option\n",
    "            symbol = 1\n",
    "            if not fixed: #if it is call option\n",
    "                symbol = -1\n",
    "            Ti = int(middle_df.at[i, 'Si'])\n",
    "            sd = symbol * phi(symbol * \n",
    "                              (math.log(0.06 / 0.05) + \n",
    "                              0.5 * 0.5 ** 2 * Ti) / \n",
    "                              (0.5 * math.sqrt(Ti)))\n",
    "        \n",
    "        sd_column.append(sd)\n",
    "        \n",
    "    middle_df['Supervisory delta'] = sd_column"
   ]
  },
  {
   "cell_type": "code",
   "execution_count": 20,
   "id": "4d667302",
   "metadata": {},
   "outputs": [],
   "source": [
    "supervisory_delta_generator(example_1_df, middle_df)"
   ]
  },
  {
   "cell_type": "code",
   "execution_count": 21,
   "id": "c7c4e61b",
   "metadata": {},
   "outputs": [
    {
     "data": {
      "text/html": [
       "<div>\n",
       "<style scoped>\n",
       "    .dataframe tbody tr th:only-of-type {\n",
       "        vertical-align: middle;\n",
       "    }\n",
       "\n",
       "    .dataframe tbody tr th {\n",
       "        vertical-align: top;\n",
       "    }\n",
       "\n",
       "    .dataframe thead th {\n",
       "        text-align: right;\n",
       "    }\n",
       "</style>\n",
       "<table border=\"1\" class=\"dataframe\">\n",
       "  <thead>\n",
       "    <tr style=\"text-align: right;\">\n",
       "      <th></th>\n",
       "      <th>Hedging set</th>\n",
       "      <th>Notional (thousands)</th>\n",
       "      <th>Si</th>\n",
       "      <th>Ei</th>\n",
       "      <th>SDi</th>\n",
       "      <th>Adjusted notional (thousands)</th>\n",
       "      <th>Supervisory delta</th>\n",
       "    </tr>\n",
       "  </thead>\n",
       "  <tbody>\n",
       "    <tr>\n",
       "      <th>0</th>\n",
       "      <td>USD</td>\n",
       "      <td>10000</td>\n",
       "      <td>0</td>\n",
       "      <td>10</td>\n",
       "      <td>7.869387</td>\n",
       "      <td>78693.868057</td>\n",
       "      <td>1.000000</td>\n",
       "    </tr>\n",
       "    <tr>\n",
       "      <th>1</th>\n",
       "      <td>USD</td>\n",
       "      <td>10000</td>\n",
       "      <td>0</td>\n",
       "      <td>4</td>\n",
       "      <td>3.625385</td>\n",
       "      <td>36253.849384</td>\n",
       "      <td>-1.000000</td>\n",
       "    </tr>\n",
       "    <tr>\n",
       "      <th>2</th>\n",
       "      <td>EUR</td>\n",
       "      <td>5000</td>\n",
       "      <td>1</td>\n",
       "      <td>11</td>\n",
       "      <td>7.485592</td>\n",
       "      <td>37427.961412</td>\n",
       "      <td>-0.269395</td>\n",
       "    </tr>\n",
       "  </tbody>\n",
       "</table>\n",
       "</div>"
      ],
      "text/plain": [
       "  Hedging set  Notional (thousands)  Si  Ei       SDi  \\\n",
       "0         USD                 10000   0  10  7.869387   \n",
       "1         USD                 10000   0   4  3.625385   \n",
       "2         EUR                  5000   1  11  7.485592   \n",
       "\n",
       "   Adjusted notional (thousands)  Supervisory delta  \n",
       "0                   78693.868057           1.000000  \n",
       "1                   36253.849384          -1.000000  \n",
       "2                   37427.961412          -0.269395  "
      ]
     },
     "execution_count": 21,
     "metadata": {},
     "output_type": "execute_result"
    }
   ],
   "source": [
    "middle_df"
   ]
  },
  {
   "cell_type": "code",
   "execution_count": 22,
   "id": "558c9bc9",
   "metadata": {},
   "outputs": [],
   "source": [
    "#time_bucket_classifer() classifies each transaction by time\n",
    "def time_bucket_classifier(original_df, middle_df):\n",
    "    classes = []\n",
    "    for number in middle_df['Ei'].tolist():\n",
    "        if number > 5:\n",
    "            classes.append(3)\n",
    "        elif number < 1:\n",
    "            classes.append(1)\n",
    "        else:\n",
    "            classes.append(2)\n",
    "    middle_df['Time Bucket'] = classes\n",
    "\n",
    "    \n",
    "# Hedging list generator\n",
    "def hedging_list_generator(middle_df):\n",
    "    series1 = middle_df['Adjusted notional (thousands)']\n",
    "    series2 = middle_df['Supervisory delta']\n",
    "    hedging_set = series1 * series2\n",
    "    return hedging_set.tolist()"
   ]
  },
  {
   "cell_type": "code",
   "execution_count": 23,
   "id": "83dc3bff",
   "metadata": {},
   "outputs": [
    {
     "data": {
      "text/plain": [
       "0    1.000000\n",
       "1   -1.000000\n",
       "2   -0.269395\n",
       "Name: Supervisory delta, dtype: float64"
      ]
     },
     "execution_count": 23,
     "metadata": {},
     "output_type": "execute_result"
    }
   ],
   "source": [
    "middle_df['Supervisory delta']"
   ]
  },
  {
   "cell_type": "code",
   "execution_count": 24,
   "id": "e3c445b0",
   "metadata": {},
   "outputs": [
    {
     "data": {
      "text/plain": [
       "0    78693.868057\n",
       "1    36253.849384\n",
       "2    37427.961412\n",
       "Name: Adjusted notional (thousands), dtype: float64"
      ]
     },
     "execution_count": 24,
     "metadata": {},
     "output_type": "execute_result"
    }
   ],
   "source": [
    "middle_df['Adjusted notional (thousands)']"
   ]
  },
  {
   "cell_type": "code",
   "execution_count": 25,
   "id": "1777bdee",
   "metadata": {},
   "outputs": [
    {
     "data": {
      "text/plain": [
       "0    78693.868057\n",
       "1   -36253.849384\n",
       "2   -10082.913813\n",
       "dtype: float64"
      ]
     },
     "execution_count": 25,
     "metadata": {},
     "output_type": "execute_result"
    }
   ],
   "source": [
    "middle_df['Supervisory delta'] * middle_df['Adjusted notional (thousands)']"
   ]
  },
  {
   "cell_type": "code",
   "execution_count": 26,
   "id": "5953b045",
   "metadata": {},
   "outputs": [
    {
     "data": {
      "text/plain": [
       "[78693.86805747332, -36253.849384403635, -10082.913813053285]"
      ]
     },
     "execution_count": 26,
     "metadata": {},
     "output_type": "execute_result"
    }
   ],
   "source": [
    "hedging_list_generator(middle_df)"
   ]
  },
  {
   "cell_type": "code",
   "execution_count": 31,
   "id": "a9f5b6d2",
   "metadata": {},
   "outputs": [],
   "source": [
    "time_bucket_classifier(example_1_df, middle_df)"
   ]
  },
  {
   "cell_type": "code",
   "execution_count": 32,
   "id": "ef52f946",
   "metadata": {},
   "outputs": [],
   "source": [
    "# EffectiveNotional generator for interest rate\n",
    "def effectiveNotional(original_df, middle_df, group_name):\n",
    "    hedging_set = hedging_list_generator(middle_df)\n",
    "    (row_num, col_num) = original_df.shape\n",
    "    en_list = [0, 0, 0]\n",
    "    idx = 0\n",
    "    for i in range(0,row_num): \n",
    "        if (str(middle_df.at[i, 'Hedging set']) == str(group_name)):\n",
    "            idx = middle_df.at[i, 'Time Bucket'] - 1\n",
    "            en_list[idx] = hedging_set[i]\n",
    "            \n",
    "    #print(en_list)\n",
    "    e_n = 0\n",
    "    for item in en_list:\n",
    "        e_n += item ** 2\n",
    "    #print(e_n)\n",
    "    e_n += 1.4 * (en_list[0]) * (en_list[1])\n",
    "    e_n += 1.4 * (en_list[1]) * (en_list[2])\n",
    "    e_n += 0.6 * (en_list[0]) * (en_list[2])\n",
    "    #print(e_n)\n",
    "    result = math.sqrt(e_n)\n",
    "    return result"
   ]
  },
  {
   "cell_type": "code",
   "execution_count": 33,
   "id": "1d922ccd",
   "metadata": {},
   "outputs": [
    {
     "data": {
      "text/plain": [
       "59269.9634637104"
      ]
     },
     "execution_count": 33,
     "metadata": {},
     "output_type": "execute_result"
    }
   ],
   "source": [
    "effectiveNotional(example_1_df, middle_df, 'USD')"
   ]
  },
  {
   "cell_type": "code",
   "execution_count": 34,
   "id": "660f0f19",
   "metadata": {},
   "outputs": [],
   "source": [
    "# addOn for Interest Rate\n",
    "def addOn_interst_rate(original_df, middle_df):\n",
    "    unique_group = list(set(middle_df['Hedging set'].tolist()))\n",
    "    effectiveNotionList = []\n",
    "    for hedging_set in unique_group:\n",
    "        effectiveNotionList.append(effectiveNotional(original_df, \n",
    "                                                       middle_df,\n",
    "                                                      hedging_set))\n",
    "    #print(effectiveNotionList)\n",
    "    newList = 0.005 * np.array(effectiveNotionList)\n",
    "    #print(newList)\n",
    "    addOn = np.sum(0.005 * np.array(effectiveNotionList))\n",
    "    return round(addOn)"
   ]
  },
  {
   "cell_type": "code",
   "execution_count": 35,
   "id": "4131e1f8",
   "metadata": {},
   "outputs": [],
   "source": [
    "time_bucket_classifier(example_1_df, middle_df)"
   ]
  },
  {
   "cell_type": "code",
   "execution_count": 36,
   "id": "6cc906cb",
   "metadata": {},
   "outputs": [
    {
     "data": {
      "text/plain": [
       "347"
      ]
     },
     "execution_count": 36,
     "metadata": {},
     "output_type": "execute_result"
    }
   ],
   "source": [
    "addOn_interst_rate(example_1_df, middle_df)"
   ]
  },
  {
   "cell_type": "code",
   "execution_count": 37,
   "id": "64f6fa73",
   "metadata": {},
   "outputs": [],
   "source": [
    "# find the multipler for interest rate EAD\n",
    "def multiplier_finder(original_df, middle_df):\n",
    "    addOn = addOn_interst_rate(original_df, middle_df)\n",
    "    floor = 0.05\n",
    "    v_c = original_df[['Market value (thousands)']].sum()\n",
    "    denominator = 2 * (1 - floor) * addOn\n",
    "    alternative = floor + (1 - floor) * math.exp(v_c / denominator)\n",
    "    multiplier = min(1, alternative)\n",
    "    return multiplier"
   ]
  },
  {
   "cell_type": "code",
   "execution_count": 38,
   "id": "fe534234",
   "metadata": {},
   "outputs": [
    {
     "data": {
      "text/plain": [
       "1"
      ]
     },
     "execution_count": 38,
     "metadata": {},
     "output_type": "execute_result"
    }
   ],
   "source": [
    "multiplier_finder(example_1_df, middle_df)"
   ]
  },
  {
   "cell_type": "code",
   "execution_count": 47,
   "id": "8b4b7f48",
   "metadata": {},
   "outputs": [],
   "source": [
    "# EAD for interest rate\n",
    "def interest_rate_EAD(original_df, middle_df):\n",
    "    r_c = rc(original_df)\n",
    "    multiplier = multiplier_finder(original_df, middle_df)\n",
    "    addon_val = addOn_interst_rate(example_1_df, middle_df)\n",
    "    return 1.4 * (r_c + multiplier * addon_val)"
   ]
  },
  {
   "cell_type": "code",
   "execution_count": 48,
   "id": "d06684be",
   "metadata": {},
   "outputs": [
    {
     "data": {
      "text/plain": [
       "569.8"
      ]
     },
     "execution_count": 48,
     "metadata": {},
     "output_type": "execute_result"
    }
   ],
   "source": [
    "interest_rate_EAD(example_1_df, middle_df)"
   ]
  },
  {
   "cell_type": "code",
   "execution_count": null,
   "id": "9306938c",
   "metadata": {},
   "outputs": [],
   "source": []
  }
 ],
 "metadata": {
  "kernelspec": {
   "display_name": "Python 3",
   "language": "python",
   "name": "python3"
  },
  "language_info": {
   "codemirror_mode": {
    "name": "ipython",
    "version": 3
   },
   "file_extension": ".py",
   "mimetype": "text/x-python",
   "name": "python",
   "nbconvert_exporter": "python",
   "pygments_lexer": "ipython3",
   "version": "3.8.8"
  }
 },
 "nbformat": 4,
 "nbformat_minor": 5
}
