{
 "cells": [
  {
   "cell_type": "markdown",
   "id": "033ffdaa",
   "metadata": {},
   "source": [
    "# Standardised Approach for Counterparty Credit Risk\n",
    "\n",
    "Abbreviations: <br >\n",
    "- $VM$: Variation Margin\n",
    "- $EAD$: Exposure At Default under SA\n",
    "- $RC$: replacement cost (different for margined and unmargined)\n",
    "- $PFE$: Potential Future Exposure\n",
    "- $V$: Current Market Value of the Derivative in the netting set\n",
    "- $C$: Net harcut value of the net collateral held\n",
    "- $ICA$: Independent Collateral Amount\n",
    "- $TH$: Positive threshold before the counterparty must send the bank collateral\n",
    "- $MTA$: Minimum transfer amount\n",
    "- $NICA$: Net independent Collateral Amount\n",
    "- $MF_i^{type}$: Maturity Factor\n",
    "- $M_i$: Maturity (i remaining maturity floored by 10 business days)\n",
    "- $S_i$: Start\n",
    "- $E_i$: end date\n",
    "- $T_i$: Contractual Exercise Date\n",
    "- ${SD}_i$: Supervisory Duration\n",
    "- $\\delta_i$: Supervisory delta Adjustments\n",
    "- $MPOR_i$: Margin period of risk appropriate for the margin agreement containing the transaction i\n",
    "\n",
    "Formulas: <br> \n",
    "- EAD = alpha * (RC + PFE) \n",
    "- RC (Margined) = max{V - C;TH + MTA - NICA; 0}\n",
    "- PFE = multiplier * $AddOn^{aggregate}$\n",
    "- multipiler = min{1; Floor + (1 - Floor) * exp ($\\frac{V - C}{2* (1-Floor) * AddOn^{aggregate} }$)}\n",
    "- $AddOn^{aggregate}$ = $\\sum_{a} AddOn^a$\n",
    "- ${SD}_i$ = $\\frac {exp(-0.05*S_i)-exp(-0.05*Ei)} {0.05}$\n",
    "- ${MF}_i^{unmargined}$ = $\\sqrt{\\frac {min\\{M_i; 1 year\\}}{1year}}$\n",
    "- ${MF}_i^{(margined)}$ = $\\frac {3} {2} \\sqrt{\\frac{MPOR_i}{1year}}$\n",
    "\n",
    "<a href=\"https://www.bis.org/publ/bcbs279.pdf\">PDF Reference</a>"
   ]
  },
  {
   "cell_type": "code",
   "execution_count": 1,
   "id": "d58cccd2",
   "metadata": {},
   "outputs": [],
   "source": [
    "# csv file sample input\n"
   ]
  },
  {
   "cell_type": "markdown",
   "id": "fde50a51",
   "metadata": {},
   "source": [
    "<h3>Example 1: <h3/>"
   ]
  },
  {
   "cell_type": "code",
   "execution_count": 2,
   "id": "00555df0",
   "metadata": {},
   "outputs": [],
   "source": [
    "import pandas as pd\n",
    "import math\n",
    "import numpy as np"
   ]
  },
  {
   "cell_type": "code",
   "execution_count": 3,
   "id": "611589d7",
   "metadata": {},
   "outputs": [],
   "source": [
    "fileName = \"example_1_input.csv\"\n",
    "example_1_df = pd.read_csv(fileName)"
   ]
  },
  {
   "cell_type": "code",
   "execution_count": 4,
   "id": "2b04a0ee",
   "metadata": {},
   "outputs": [
    {
     "data": {
      "text/html": [
       "<div>\n",
       "<style scoped>\n",
       "    .dataframe tbody tr th:only-of-type {\n",
       "        vertical-align: middle;\n",
       "    }\n",
       "\n",
       "    .dataframe tbody tr th {\n",
       "        vertical-align: top;\n",
       "    }\n",
       "\n",
       "    .dataframe thead th {\n",
       "        text-align: right;\n",
       "    }\n",
       "</style>\n",
       "<table border=\"1\" class=\"dataframe\">\n",
       "  <thead>\n",
       "    <tr style=\"text-align: right;\">\n",
       "      <th></th>\n",
       "      <th>Trade #</th>\n",
       "      <th>Nature</th>\n",
       "      <th>Residual maturity</th>\n",
       "      <th>Base currency</th>\n",
       "      <th>Notional (thousands)</th>\n",
       "      <th>Pay Leg (*)</th>\n",
       "      <th>Receive Leg (*)</th>\n",
       "      <th>Market value (thousands)</th>\n",
       "    </tr>\n",
       "  </thead>\n",
       "  <tbody>\n",
       "    <tr>\n",
       "      <th>0</th>\n",
       "      <td>1</td>\n",
       "      <td>Interest rate swap</td>\n",
       "      <td>10 years</td>\n",
       "      <td>USD</td>\n",
       "      <td>10000</td>\n",
       "      <td>Fixed</td>\n",
       "      <td>Floating</td>\n",
       "      <td>30</td>\n",
       "    </tr>\n",
       "    <tr>\n",
       "      <th>1</th>\n",
       "      <td>2</td>\n",
       "      <td>Interest rate swap</td>\n",
       "      <td>4 years</td>\n",
       "      <td>USD</td>\n",
       "      <td>10000</td>\n",
       "      <td>Floating</td>\n",
       "      <td>Fixed</td>\n",
       "      <td>-20</td>\n",
       "    </tr>\n",
       "    <tr>\n",
       "      <th>2</th>\n",
       "      <td>3</td>\n",
       "      <td>European swaption</td>\n",
       "      <td>1 into 10 years</td>\n",
       "      <td>EUR</td>\n",
       "      <td>5000</td>\n",
       "      <td>Floating</td>\n",
       "      <td>Fixed</td>\n",
       "      <td>50</td>\n",
       "    </tr>\n",
       "  </tbody>\n",
       "</table>\n",
       "</div>"
      ],
      "text/plain": [
       "   Trade #              Nature Residual maturity Base currency  \\\n",
       "0        1  Interest rate swap          10 years           USD   \n",
       "1        2  Interest rate swap           4 years           USD   \n",
       "2        3   European swaption   1 into 10 years           EUR   \n",
       "\n",
       "   Notional (thousands) Pay Leg (*) Receive Leg (*)  Market value (thousands)  \n",
       "0                 10000       Fixed        Floating                        30  \n",
       "1                 10000    Floating           Fixed                       -20  \n",
       "2                  5000    Floating           Fixed                        50  "
      ]
     },
     "execution_count": 4,
     "metadata": {},
     "output_type": "execute_result"
    }
   ],
   "source": [
    "example_1_df"
   ]
  },
  {
   "cell_type": "markdown",
   "id": "0a28a90d",
   "metadata": {},
   "source": [
    "rc(df) takes in a dataframe and compute the RC of a given file"
   ]
  },
  {
   "cell_type": "code",
   "execution_count": 5,
   "id": "8dc8b58f",
   "metadata": {},
   "outputs": [],
   "source": [
    "def rc(df):\n",
    "    v_c = example_1_df[['Market value (thousands)']].sum()\n",
    "    r_c = max(int(v_c), 0)\n",
    "    return r_c"
   ]
  },
  {
   "cell_type": "code",
   "execution_count": 6,
   "id": "3d4f0b9d",
   "metadata": {},
   "outputs": [
    {
     "data": {
      "text/plain": [
       "60"
      ]
     },
     "execution_count": 6,
     "metadata": {},
     "output_type": "execute_result"
    }
   ],
   "source": [
    "rc(example_1_df)"
   ]
  },
  {
   "cell_type": "code",
   "execution_count": 7,
   "id": "5a1695f3",
   "metadata": {},
   "outputs": [
    {
     "data": {
      "text/plain": [
       "Trade #                      int64\n",
       "Nature                      object\n",
       "Residual maturity           object\n",
       "Base currency               object\n",
       "Notional (thousands)         int64\n",
       "Pay Leg (*)                 object\n",
       "Receive Leg (*)             object\n",
       "Market value (thousands)     int64\n",
       "dtype: object"
      ]
     },
     "execution_count": 7,
     "metadata": {},
     "output_type": "execute_result"
    }
   ],
   "source": [
    "example_1_df.dtypes"
   ]
  },
  {
   "cell_type": "code",
   "execution_count": 8,
   "id": "eb3104f4",
   "metadata": {},
   "outputs": [
    {
     "data": {
      "text/plain": [
       "{'Hedging set': ['USD', 'USD', 'EUR']}"
      ]
     },
     "execution_count": 8,
     "metadata": {},
     "output_type": "execute_result"
    }
   ],
   "source": [
    "# Creating a new dataframe for further analysis\n",
    "data = {}\n",
    "hedging_set = example_1_df['Base currency'].tolist()\n",
    "data.update({\"Hedging set\": hedging_set})\n",
    "data"
   ]
  },
  {
   "cell_type": "code",
   "execution_count": 9,
   "id": "ad6d1889",
   "metadata": {},
   "outputs": [],
   "source": [
    "# convert residual maturity to two lists, S and E by taking in\n",
    "# three variables, emptyEi, emptySi and residual maturity\n",
    "def residual_maturity_converter(Ei, Si, residual_maturity):\n",
    "    for item in residual_maturity:\n",
    "        item = str(item)\n",
    "        idx = item.find(\"into\")\n",
    "        if (idx == -1): # S would be 0\n",
    "            Si.append(0)\n",
    "            end = int(item[:item.find(\"year\") - 1])\n",
    "            Ei.append(end)\n",
    "        else:\n",
    "            idx -= 1\n",
    "            start = int(item[:idx])\n",
    "            Si.append(start)\n",
    "            idx += 5\n",
    "            end = int(item[idx:item.find(\"year\") - 1])\n",
    "            Ei.append(end)\n",
    "            \n",
    "        for i in range(0,len(Ei)):\n",
    "            Ei[i] = Ei[i] + Si[i]\n",
    "        "
   ]
  },
  {
   "cell_type": "code",
   "execution_count": 10,
   "id": "6eb74d2c",
   "metadata": {},
   "outputs": [],
   "source": [
    "#SD_generator takes in Si and Ei and generate the appropriate SD as a list\n",
    "def SD_generator(Si, Ei, SD):\n",
    "    if (len(Si) != len(Ei)):\n",
    "        return \"Error\"\n",
    "    for i in range(0, len(Si)):\n",
    "        si = Si[i]\n",
    "        ei = Ei[i]\n",
    "        sd = (math.exp(-0.05*si) - math.exp(-0.05*ei)) / 0.05\n",
    "        SD.append(sd)"
   ]
  },
  {
   "cell_type": "code",
   "execution_count": 11,
   "id": "91a9951b",
   "metadata": {},
   "outputs": [],
   "source": [
    "Ei = []\n",
    "Si = []\n",
    "residual_maturity_converter(Ei, Si, example_1_df['Residual maturity'])"
   ]
  },
  {
   "cell_type": "code",
   "execution_count": 12,
   "id": "3e378702",
   "metadata": {},
   "outputs": [
    {
     "data": {
      "text/plain": [
       "[10, 4, 11]"
      ]
     },
     "execution_count": 12,
     "metadata": {},
     "output_type": "execute_result"
    }
   ],
   "source": [
    "Ei"
   ]
  },
  {
   "cell_type": "code",
   "execution_count": 13,
   "id": "947bac97",
   "metadata": {},
   "outputs": [
    {
     "data": {
      "text/plain": [
       "[0, 0, 1]"
      ]
     },
     "execution_count": 13,
     "metadata": {},
     "output_type": "execute_result"
    }
   ],
   "source": [
    "Si"
   ]
  },
  {
   "cell_type": "code",
   "execution_count": 14,
   "id": "301da376",
   "metadata": {},
   "outputs": [
    {
     "data": {
      "text/plain": [
       "{'Hedging set': ['USD', 'USD', 'EUR'],\n",
       " 'Notional (thousands)': [10000, 10000, 5000],\n",
       " 'Si': [0, 0, 1],\n",
       " 'Ei': [10, 4, 11]}"
      ]
     },
     "execution_count": 14,
     "metadata": {},
     "output_type": "execute_result"
    }
   ],
   "source": [
    "data.update({\"Notional (thousands)\": example_1_df['Notional (thousands)'].tolist(),\n",
    "            \"Si\": Si, \"Ei\":Ei})\n",
    "data"
   ]
  },
  {
   "cell_type": "code",
   "execution_count": 15,
   "id": "8a6250a9",
   "metadata": {},
   "outputs": [
    {
     "data": {
      "text/plain": [
       "[7.8693868057473315, 3.6253849384403636, 7.485592282404547]"
      ]
     },
     "execution_count": 15,
     "metadata": {},
     "output_type": "execute_result"
    }
   ],
   "source": [
    "SD = []\n",
    "SD_generator(Si, Ei, SD)\n",
    "SD"
   ]
  },
  {
   "cell_type": "code",
   "execution_count": 17,
   "id": "a5ff27ca",
   "metadata": {},
   "outputs": [],
   "source": [
    "Adj_notion = np.array(SD) * np.array(example_1_df['Notional (thousands)'].tolist())"
   ]
  },
  {
   "cell_type": "code",
   "execution_count": 20,
   "id": "e25be016",
   "metadata": {},
   "outputs": [
    {
     "data": {
      "text/plain": [
       "{'Hedging set': ['USD', 'USD', 'EUR'],\n",
       " 'Notional (thousands)': [10000, 10000, 5000],\n",
       " 'Si': [0, 0, 1],\n",
       " 'Ei': [10, 4, 11],\n",
       " 'SDi': [7.8693868057473315, 3.6253849384403636, 7.485592282404547],\n",
       " 'Adjusted notional (thousands)': [78693.86805747332,\n",
       "  36253.849384403635,\n",
       "  37427.961412022734]}"
      ]
     },
     "execution_count": 20,
     "metadata": {},
     "output_type": "execute_result"
    }
   ],
   "source": [
    "data.update({\"SDi\": SD,\n",
    "            \"Adjusted notional (thousands)\": Adj_notion.tolist()})\n",
    "data"
   ]
  },
  {
   "cell_type": "code",
   "execution_count": 22,
   "id": "162ef98a",
   "metadata": {},
   "outputs": [
    {
     "data": {
      "text/html": [
       "<div>\n",
       "<style scoped>\n",
       "    .dataframe tbody tr th:only-of-type {\n",
       "        vertical-align: middle;\n",
       "    }\n",
       "\n",
       "    .dataframe tbody tr th {\n",
       "        vertical-align: top;\n",
       "    }\n",
       "\n",
       "    .dataframe thead th {\n",
       "        text-align: right;\n",
       "    }\n",
       "</style>\n",
       "<table border=\"1\" class=\"dataframe\">\n",
       "  <thead>\n",
       "    <tr style=\"text-align: right;\">\n",
       "      <th></th>\n",
       "      <th>Hedging set</th>\n",
       "      <th>Notional (thousands)</th>\n",
       "      <th>Si</th>\n",
       "      <th>Ei</th>\n",
       "      <th>SDi</th>\n",
       "      <th>Adjusted notional (thousands)</th>\n",
       "    </tr>\n",
       "  </thead>\n",
       "  <tbody>\n",
       "    <tr>\n",
       "      <th>0</th>\n",
       "      <td>USD</td>\n",
       "      <td>10000</td>\n",
       "      <td>0</td>\n",
       "      <td>10</td>\n",
       "      <td>7.869387</td>\n",
       "      <td>78693.868057</td>\n",
       "    </tr>\n",
       "    <tr>\n",
       "      <th>1</th>\n",
       "      <td>USD</td>\n",
       "      <td>10000</td>\n",
       "      <td>0</td>\n",
       "      <td>4</td>\n",
       "      <td>3.625385</td>\n",
       "      <td>36253.849384</td>\n",
       "    </tr>\n",
       "    <tr>\n",
       "      <th>2</th>\n",
       "      <td>EUR</td>\n",
       "      <td>5000</td>\n",
       "      <td>1</td>\n",
       "      <td>11</td>\n",
       "      <td>7.485592</td>\n",
       "      <td>37427.961412</td>\n",
       "    </tr>\n",
       "  </tbody>\n",
       "</table>\n",
       "</div>"
      ],
      "text/plain": [
       "  Hedging set  Notional (thousands)  Si  Ei       SDi  \\\n",
       "0         USD                 10000   0  10  7.869387   \n",
       "1         USD                 10000   0   4  3.625385   \n",
       "2         EUR                  5000   1  11  7.485592   \n",
       "\n",
       "   Adjusted notional (thousands)  \n",
       "0                   78693.868057  \n",
       "1                   36253.849384  \n",
       "2                   37427.961412  "
      ]
     },
     "execution_count": 22,
     "metadata": {},
     "output_type": "execute_result"
    }
   ],
   "source": [
    "middle_df = pd.DataFrame(data)\n",
    "middle_df"
   ]
  },
  {
   "cell_type": "code",
   "execution_count": null,
   "id": "15fbfe39",
   "metadata": {},
   "outputs": [],
   "source": []
  }
 ],
 "metadata": {
  "kernelspec": {
   "display_name": "Python 3",
   "language": "python",
   "name": "python3"
  },
  "language_info": {
   "codemirror_mode": {
    "name": "ipython",
    "version": 3
   },
   "file_extension": ".py",
   "mimetype": "text/x-python",
   "name": "python",
   "nbconvert_exporter": "python",
   "pygments_lexer": "ipython3",
   "version": "3.8.8"
  }
 },
 "nbformat": 4,
 "nbformat_minor": 5
}
